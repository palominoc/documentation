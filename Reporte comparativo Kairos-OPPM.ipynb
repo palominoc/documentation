{
    "metadata": {
        "kernelspec": {
            "name": "SQL",
            "display_name": "SQL",
            "language": "sql"
        },
        "language_info": {
            "name": "sql",
            "version": ""
        }
    },
    "nbformat_minor": 2,
    "nbformat": 4,
    "cells": [
        {
            "cell_type": "markdown",
            "source": [
                "# REPORTE OPPM-Kairos"
            ],
            "metadata": {
                "azdata_cell_guid": "21e9d384-a663-404e-b7e5-fd6d61c63470"
            }
        },
        {
            "cell_type": "markdown",
            "source": [
                "Para la generación del siguiente informe se realizaron las siguientes actividades, detalladas a continuación:\n",
                "\n",
                "1. **Generación del Algoritmo de búsqueda GTIN**: este algoritmo nos permite identificar los códigos prioritarios y los atributos que tengan similutud a los datos del observatorio, por ejemplo: **Registro Sanitario, fracciones, etc**. Para dicho proceso se utilizó el **Catalogo.GTIN** provisto por SuSalud.El algoritmo está conformado por dos metodologías de búsqueda, la primera basada en búsqueda mediante un modelo de **machine learning** (Freetextable) y la segunda basada en **coincidencias** en el contenido de palabras (Containstable). El algoritmo tiene como objetivo comprar ambos catálogos (GTIN y Kairos) para dar como resultado las dos mejores posibilidades de coincidencia."
            ],
            "metadata": {
                "azdata_cell_guid": "9665df87-fff5-47cf-a99f-168c9c0cad54"
            },
            "attachments": {}
        },
        {
            "cell_type": "code",
            "source": [
                "--CATALOGO DE GTIN PROVISTO POR SUSALUD\r\n",
                "SELECT *\r\n",
                "FROM Catalogo.GTIN CG"
            ],
            "metadata": {
                "azdata_cell_guid": "fe994be8-c495-42ac-9b1f-f0033766e339",
                "tags": []
            },
            "outputs": [],
            "execution_count": null
        },
        {
            "cell_type": "code",
            "source": [
                "--CATALOGO GTIN DE PRODUCTOS DECLARADOS EN EL TEDEF (6926 registros)\r\n",
                "SELECT *\r\n",
                "FROM Catalogo.Consumo_TEDEF CT"
            ],
            "metadata": {
                "azdata_cell_guid": "5a7eb955-d3a2-4a37-9fec-98d6d2aec738",
                "tags": []
            },
            "outputs": [],
            "execution_count": null
        },
        {
            "cell_type": "code",
            "source": [
                "--RELACIÓN DE CÓDIGOS GTIN PARA IDENTIFICAR LOS ATRIBUTOS DEL PRODUCTO QUE PUEDAN CORRESPONDER CON EL CATALOGO DE MEDICAMENTOS DEL OPPM\r\n",
                "SELECT CG.CODIGO, CG.NUMREGISTROSANITARIO, CG.DENOMINACIONCOMUN, CG.NOMBRE, CG.CONCENTRACION, CG.UNIDADENVASE, CG.FORMAFARMACEUTICASIMP, CG.LABORATORIO\r\n",
                "FROM Catalogo.GTIN CG\r\n",
                "INNER JOIN Catalogo.Consumo_TEDEF CT\r\n",
                "ON CG.Codigo = CT.GTIN"
            ],
            "metadata": {
                "azdata_cell_guid": "5e76d99b-e505-425a-8df1-715bd002c123",
                "tags": []
            },
            "outputs": [],
            "execution_count": null
        },
        {
            "cell_type": "code",
            "source": [
                "--ALGORITMO DE BÚSQUEDA GTIN: BUSCA Y ALMACENA LA INFORMACIÓN EN UNA TABLA QUE SERÁ UTILIZADA POSTERIORMENTE\r\n",
                "SET ANSI_NULLS ON\r\n",
                "GO\r\n",
                "SET QUOTED_IDENTIFIER ON\r\n",
                "GO\r\n",
                "CREATE PROCEDURE [dbo].[sp_OPPM_GTIN_V2] @INICIO INT\r\n",
                "AS\r\n",
                "DECLARE @Codigo         NVARCHAR(30),\r\n",
                "        @RegSan         NVARCHAR(30),\r\n",
                "        @Prin_Activo    NVARCHAR(255),\r\n",
                "        @Nombre         NVARCHAR(255),\r\n",
                "        @Lab            NVARCHAR(255),\r\n",
                "        @Concent        NVARCHAR(255),\r\n",
                "        @Fraccion       NVARCHAR(255),\r\n",
                "        @Present        NVARCHAR(255),\r\n",
                "        @Form_Farm      NVARCHAR(255),\r\n",
                "        @Prin_Activo_s  NVARCHAR(255),\r\n",
                "        @Nombre_s       NVARCHAR(255),\r\n",
                "        @Lab_s          NVARCHAR(255),\r\n",
                "        @Concent_s      NVARCHAR(255),\r\n",
                "        @Fraccion_s     NVARCHAR(255),\r\n",
                "        @Form_Farm_s    NVARCHAR(255),\r\n",
                "        @GTIN           NVARCHAR(255),\r\n",
                "        @PK             INT = @INICIO,\r\n",
                "        @MAX            INT,\r\n",
                "        @y              NVARCHAR(1500),\r\n",
                "        @x              NVARCHAR(1500),\r\n",
                "        @PESO1          NVARCHAR(25),\r\n",
                "        @PESO2          NVARCHAR(25),\r\n",
                "        @PESO3          NVARCHAR(25),\r\n",
                "        @PESO4          NVARCHAR(25)\r\n",
                "\r\n",
                "\r\n",
                "SET @MAX = (SELECT MAX(pk_Catalogo_producto) FROM Productos)\r\n",
                "SET @PESO1 = ' WEIGHT(0.6), '\r\n",
                "SET @PESO2 = ' WEIGHT(1), '\r\n",
                "\r\n",
                "WHILE @PK <= @MAX\r\n",
                "BEGIN\r\n",
                "\r\n",
                "SET @Prin_Activo_s = (SELECT UPPER(Prin_Activo) FROM Productos WHERE PK_Catalogo_Producto = @PK)\r\n",
                "SET @Nombre_s = (SELECT UPPER(Nom_Prod) FROM Productos WHERE PK_Catalogo_Producto = @PK)\r\n",
                "SET @Lab_s = (SELECT UPPER(Laboratory) FROM Productos INNER JOIN Productos_Laboratorio ON Productos.Cod_Prod = Productos_Laboratorio.Cod_Prod WHERE PK_Catalogo_Producto = @PK)\r\n",
                "SET @Concent_s = (SELECT Concent FROM Productos WHERE PK_Catalogo_Producto = @PK)\r\n",
                "SET @Fraccion_s = (SELECT convert(NVARCHAR(50),Fracciones) FROM Productos WHERE PK_Catalogo_Producto = @PK)\r\n",
                "SET @Form_Farm_s = (SELECT UPPER(P.Nom_Form_Farm_Simplif) FROM Productos AS P LEFT JOIN MAESTRO_FORMA_FARM AS M ON p.Nom_Form_Farm_Simplif = M.Nom_Form_Farm_Simplif WHERE PK_Catalogo_Producto = @PK)\r\n",
                "SET @Codigo = (SELECT Cod_Prod FROM Productos WHERE PK_Catalogo_Producto = @PK)\r\n",
                "SET @Present = (SELECT Presentac FROM Productos WHERE PK_Catalogo_Producto = @PK)\r\n",
                "SET @GTIN = (SELECT Cod_GTIN FROM Productos WHERE PK_Catalogo_Producto = @PK)\r\n",
                "SET @RegSan = (SELECT Num_RegSan FROM Productos WHERE PK_Catalogo_Producto = @PK)\r\n",
                "\r\n",
                "SET @Prin_Activo = (CASE WHEN ISNULL(@Prin_Activo_s,'') = '' THEN '' ELSE ISNULL(@Prin_Activo_s,'') + ' ' END)\r\n",
                "SET @Nombre = (CASE WHEN ISNULL(@Nombre_s,'') = '' THEN '' ELSE ISNULL(@Nombre_s,'') + ' ' END)\r\n",
                "SET @Lab = (CASE WHEN ISNULL(@Lab_s,'') = '' THEN '' ELSE ISNULL(@Lab_s,'') + ' ' END)\r\n",
                "SET @Concent = (CASE WHEN ISNULL(@Concent_s,'') = '' THEN '' ELSE ISNULL(@Concent_s,'') + ' ' END)\r\n",
                "SET @Fraccion = (CASE WHEN ISNULL(@Fraccion_s,'') = '' THEN '' ELSE ISNULL(@Fraccion_s,'') + ' ' END)\r\n",
                "SET @Form_Farm = (CASE WHEN ISNULL(@Form_Farm_s,'') = '' THEN '' ELSE ISNULL(@Form_Farm_s,'') + ' ' END)\r\n",
                "\r\n",
                "--SET @x = @Prin_Activo + @Nombre + @Lab + @Concent + @Fraccion + REPLACE(@Form_Farm,' ','');\r\n",
                "SET @x = @RegSan\r\n",
                "\r\n",
                "SET @Prin_Activo = (CASE WHEN ISNULL(@Prin_Activo_s,'') = '' THEN '' ELSE '\"'+ ISNULL(@Prin_Activo_s,'') + '\"' + @PESO1 END)\r\n",
                "SET @Nombre = (CASE WHEN ISNULL(@Nombre_s,'') = '' THEN '' ELSE '\"' + ISNULL(@Nombre_s,'') + '\"' + @PESO2 END)\r\n",
                "SET @Lab = (CASE WHEN ISNULL(@Lab_s,'') = '' THEN '' ELSE '\"' + ISNULL(@Lab_s,'') + '\"' + @PESO2 END)\r\n",
                "SET @Concent = (CASE WHEN ISNULL(@Concent_s,'') = '' THEN '' ELSE '\"' + ISNULL(@Concent_s,'') + '\"' + @PESO1 END)\r\n",
                "SET @Fraccion = (CASE WHEN ISNULL(@Fraccion_s,'') = '' THEN '' ELSE '\"' + ISNULL(@Fraccion_s,'') + '\"' + @PESO2 END)\r\n",
                "SET @Form_Farm = (CASE WHEN ISNULL(@Form_Farm_s,'') = '' THEN '' ELSE '\"' + ISNULL(@Form_Farm_s,'') + '\"' + @PESO1 END)\r\n",
                "\r\n",
                "--SET @y = 'ISABOUT(' + @Prin_Activo + @Nombre + @Lab + @Concent + @Fraccion + REPLACE(@Form_Farm,', ','') + ')';\r\n",
                "SET @y = 'ISABOUT(' + '\"' + @RegSan + '\"' + REPLACE(@PESO2,', ','') + ')';\r\n",
                "WITH x AS\r\n",
                "(\r\n",
                "    SELECT @PK [PK], KEY_TBL.[RANK], @Codigo [OPPM_CODIGO], [Código] [GTIN], @GTIN [OPPM_GTIN], Nro_Registro_Sanitario [RegSan], @RegSan [OPPM_RegSan], Nombre, REPLACE(@Nombre_s,', ','') [OPPM_NOM], Principio_Activo, REPLACE(@Prin_Activo_s,', ','') [OPPM_PRIN_ACT], Laboratorio, REPLACE(@Lab_s,', ','') [OPPM_LAB], Concentración, REPLACE(@Concent_s,', ','') [OPPM_CONCENT], Unidad_Envase [Fraccion], REPLACE(@Fraccion_s,', ','') [OPPM_FRAC], Forma_Farmacéutica_Simple, REPLACE(@Form_Farm_s,', ','') [Forma_Farm], Presentación, @Present [OPPM_PRES], 'F' [TB]\r\n",
                "    FROM GTIN_13\r\n",
                "    INNER JOIN FREETEXTTABLE(GTIN_13, Nro_Registro_Sanitario,\r\n",
                "                                        @x, 2) AS KEY_TBL\r\n",
                "                    ON [pk_GTIN_13] = KEY_TBL.[KEY]\r\n",
                "), y AS\r\n",
                "(\r\n",
                "    SELECT @PK [PK], KEY_TBL.[RANK], @Codigo [OPPM_CODIGO], [Código] [GTIN], @GTIN [OPPM_GTIN], Nro_Registro_Sanitario [RegSan], @RegSan [OPPM_RegSan], Nombre, REPLACE(@Nombre_s,', ','') [OPPM_NOM], Principio_Activo, REPLACE(@Prin_Activo_s,', ','') [OPPM_PRIN_ACT], Laboratorio, REPLACE(@Lab_s,', ','') [OPPM_LAB], Concentración, REPLACE(@Concent_s,', ','') [OPPM_CONCENT], Unidad_Envase [Fraccion], REPLACE(@Fraccion_s,', ','') [OPPM_FRAC], Forma_Farmacéutica_Simple, REPLACE(@Form_Farm_s,', ','') [Forma_Farm], Presentación, @Present [OPPM_PRES], 'C' [TB]\r\n",
                "    FROM GTIN_13\r\n",
                "    INNER JOIN CONTAINSTABLE(GTIN_13, Nro_Registro_Sanitario,\r\n",
                "                                        @y, 2) AS KEY_TBL\r\n",
                "                    ON [pk_GTIN_13] = KEY_TBL.[KEY]\r\n",
                "), xy AS\r\n",
                "\r\n",
                "(\r\n",
                "    SELECT *\r\n",
                "    FROM x\r\n",
                "    UNION ALL\r\n",
                "    SELECT *\r\n",
                "    FROM y\r\n",
                ")\r\n",
                "INSERT INTO OPPM_GTIN\r\n",
                "SELECT TOP 2 *\r\n",
                "FROM xy\r\n",
                "ORDER BY [RANK] DESC\r\n",
                "\r\n",
                "SET @PK = @PK + 1\r\n",
                "\r\n",
                "END\r\n",
                "\r\n",
                "GO\r\n",
                ""
            ],
            "metadata": {
                "azdata_cell_guid": "f1d358c7-3159-4ddc-96c2-8b9ef5fba675",
                "tags": []
            },
            "outputs": [],
            "execution_count": null
        },
        {
            "cell_type": "markdown",
            "source": [
                "2. **Revisión por pares en 3 grupos**: Una vez ejecutado el algoritmo, se obtiene como resultado una lista de **24 mil registros** a comprar, con **top 2** de medicamentos con mayores coincidencias para cada producto del catálogo del observatorio. Para poder dicernir finalmente la coincidencia final se utilizó 3 grupos humanos, conformados por 2 personas por equipo, para realizar el descarte final de la lista de medicamentos."
            ],
            "metadata": {
                "azdata_cell_guid": "17a03f86-30ca-4674-80bb-206f8725cc38"
            },
            "attachments": {}
        },
        {
            "cell_type": "markdown",
            "source": [
                "3. **Carga de GTIN al catálogo de medicamentos**: Luego de que se concluye el proceso de verificación manual, la data resultante se carga a la tabla **OPPM.Catalogo_Medicamentos** en el campo **GTIN**"
            ],
            "metadata": {
                "azdata_cell_guid": "52eb7980-af79-4cfe-9200-0e47fd5591b2"
            },
            "attachments": {}
        },
        {
            "cell_type": "code",
            "source": [
                "-- INSERCIÓN DE LA INFORMACIÓN AL CATÁLOGO DE MEDICAMENTOS\r\n",
                "UPDATE CM\r\n",
                "SET CM.GTIN = OG.GTIN\r\n",
                "FROM OPPM.Catalogo_Medicamentos CM\r\n",
                "INNER JOIN Temp.OPPM_GTIN OG\r\n",
                "ON CM.Cod_Prod = OG.Cod_Prod"
            ],
            "metadata": {
                "azdata_cell_guid": "b41bf534-40b6-4ae3-abd6-68265f7976bd",
                "tags": []
            },
            "outputs": [],
            "execution_count": null
        },
        {
            "cell_type": "markdown",
            "source": [
                "4. **Identificación de lista de productos a trabajar en Kairos**: Basado en los productos identificados en el proceso de Homologación GTIN, se extrae la relación de productos como lista prioritaria para la homologación Kairos"
            ],
            "metadata": {
                "azdata_cell_guid": "b1afcfc4-0fa9-4da3-8e12-7e9ac2a20c75"
            },
            "attachments": {}
        },
        {
            "cell_type": "code",
            "source": [
                "--RELACIÓN DE PRODUCTOS DEL OBSERVATORIO Y SUS ATRIBUTOS QUE PUEDEN TENER RELACIÓN CON EL CATÁLOGO KAIROS\r\n",
                "SELECT CM.Cod_Prod, CM.Prin_Activo, CM.Nom_Prod, CM.Concent, CM.Fracciones, CM.nom_form_farm_simp, CM.Laboratory, CM.Presentac\r\n",
                "FROM OPPM.Catalogo_Medicamentos CM\r\n",
                "INNER JOIN Catalogo.Consumo_TEDEF CT\r\n",
                "ON CM.GTIN = CT.GTIN"
            ],
            "metadata": {
                "azdata_cell_guid": "bd5b0992-1077-43ac-819d-f2ccda3299e9",
                "tags": []
            },
            "outputs": [],
            "execution_count": null
        },
        {
            "cell_type": "markdown",
            "source": [
                "5. **Generación del Algoritmo de búsqueda Kairos**: este algoritmo nos permite identificar los códigos prioritarios y los atributos que tengan similutud a los datos del observatorio, por ejemplo: **Nombre, fracciones, etc**. Para dicho proceso se utilizó la información del observatorio luego de la homologación con GTIN, **OPPM.Catalogo_Medicamentos**. El algoritmo está conformado por dos metodologías de búsqueda, la primera basada en búsqueda mediante un modelo de **machine learning** (Freetextable) y la segunda basada en **coincidencias** en el contenido de palabras (Containstable). El algoritmo tiene como objetivo comprar ambos catálogos (OPPM y Kairos) para dar como resultado las dos mejores posibilidades de coincidencia."
            ],
            "metadata": {
                "azdata_cell_guid": "260bd80b-8061-4e30-8867-97c175bedcf4"
            },
            "attachments": {}
        },
        {
            "cell_type": "code",
            "source": [
                "-- CATÁLOGO DE KAIROS HISTÓRICO PROVISTO POR APEPS (ÜLTIMA ACTUALIZACIÓN 21 DE JULIO)\r\n",
                "SELECT *\r\n",
                "FROM Kairos.Catalogo_Medicamentos"
            ],
            "metadata": {
                "azdata_cell_guid": "f0af27e7-dde3-483e-875b-384e923bcecf",
                "tags": []
            },
            "outputs": [],
            "execution_count": null
        },
        {
            "cell_type": "code",
            "source": [
                "-- CATÁLOGO DE MEDICAMENTOS DEL OBSERVATORIO\r\n",
                "SELECT *\r\n",
                "FROM Kairos.Catalogo_Medicamentos"
            ],
            "metadata": {
                "azdata_cell_guid": "d5693cb7-3547-4d5e-b845-476b801ba2c9",
                "tags": []
            },
            "outputs": [],
            "execution_count": null
        },
        {
            "cell_type": "code",
            "source": [
                "--ALGORITMO DE BÚSQUEDA KAIROS: BUSCA Y ALMACENA LA INFORMACIÓN EN UNA TABLA QUE SERÁ UTILIZADA POSTERIORMENTE\r\n",
                "SET ANSI_NULLS ON\r\n",
                "GO\r\n",
                "SET QUOTED_IDENTIFIER ON\r\n",
                "GO\r\n",
                "CREATE PROCEDURE [dbo].[sp_OPPM_KAIROS_V6] @INICIO INT\r\n",
                "AS\r\n",
                "DECLARE @Codigo         NVARCHAR(30),\r\n",
                "        @Prin_Activo    NVARCHAR(50),\r\n",
                "        @Nombre         NVARCHAR(50),\r\n",
                "        @Lab            NVARCHAR(50),\r\n",
                "        @Concent        NVARCHAR(50),\r\n",
                "        @Fraccion       NVARCHAR(50),\r\n",
                "        @Present        NVARCHAR(50),\r\n",
                "        @Form_Farm      NVARCHAR(50),\r\n",
                "        @PK             INT = @INICIO,\r\n",
                "        @MAX            INT,\r\n",
                "        @y              NVARCHAR(255),\r\n",
                "        @x              NVARCHAR(255),\r\n",
                "        @PESO1          NVARCHAR(50),\r\n",
                "        @PESO2          NVARCHAR(50),\r\n",
                "        @PESO3          NVARCHAR(50),\r\n",
                "        @PESO4          NVARCHAR(50)\r\n",
                "\r\n",
                "\r\n",
                "SET @MAX = (SELECT MAX(pk_Catalogo_producto) FROM Productos)\r\n",
                "SET @PESO1 = 'WEIGHT(0.4)'\r\n",
                "SET @PESO2 = 'WEIGHT(0.8)'\r\n",
                "SET @PESO3 = 'WEIGHT(1)'\r\n",
                "SET @PESO4 = 'WEIGHT(0.6)'\r\n",
                "\r\n",
                "WHILE @PK <= @MAX\r\n",
                "BEGIN\r\n",
                "\r\n",
                "SET @Codigo = (SELECT Cod_Prod FROM Productos WHERE PK_Catalogo_Producto = @PK)\r\n",
                "SET @Prin_Activo = (SELECT Prin_Activo FROM Productos WHERE PK_Catalogo_Producto = @PK)\r\n",
                "SET @Nombre = (SELECT Nom_Prod FROM Productos WHERE PK_Catalogo_Producto = @PK)\r\n",
                "SET @Lab = (SELECT Laboratory FROM Productos INNER JOIN Productos_Laboratorio ON Productos.Cod_Prod = Productos_Laboratorio.Cod_Prod WHERE PK_Catalogo_Producto = @PK)\r\n",
                "SET @Concent = (SELECT Concent FROM Productos WHERE PK_Catalogo_Producto = @PK)\r\n",
                "SET @Fraccion = (SELECT convert(NVARCHAR(50),Fracciones) FROM Productos WHERE PK_Catalogo_Producto = @PK)\r\n",
                "SET @Present = (SELECT Presentac FROM Productos WHERE PK_Catalogo_Producto = @PK)\r\n",
                "SET @Form_Farm = (SELECT M.EQUIVALENTE FROM Productos AS P LEFT JOIN MAESTRO_FORMA_FARM AS M ON p.Nom_Form_Farm_Simplif = M.Nom_Form_Farm_Simplif WHERE PK_Catalogo_Producto = @PK)\r\n",
                "\r\n",
                "SET @y = 'ISABOUT(' + '\"*'+ ISNULL(@Prin_Activo,'') + '*\"' + ' ' + @PESO2 + ', ' + '\"*'  + ISNULL(@Nombre,'') + '*\"'  + ' ' + @PESO3 + ', ' + '\"*'  + ISNULL(@Lab,'') + '*\"'  + ' ' + @PESO3 + ', ' + '\"*'  + ISNULL(@Concent,'') + '*\"'  + ' ' + @PESO4 + ', ' + '\"'  + ISNULL(@Form_Farm,'') + '*\"'  + ' ' + @PESO4 + ', '+ '\"'  + ISNULL(@Fraccion,'') + '\"'  + ' ' + @PESO1  + ')';\r\n",
                "SET @x = ISNULL(@Prin_Activo,'') + ' ' + ISNULL(@Nombre,'') + ' ' + ISNULL(@Lab,'') + ' ' + ISNULL(@Concent,'') + ' ' + ISNULL(@Form_Farm,'') + ' ' + ISNULL(@Fraccion,'');\r\n",
                "\r\n",
                "-- PRINT (@y)\r\n",
                "-- PRINT (@x)\r\n",
                "\r\n",
                "WITH x AS\r\n",
                "(\r\n",
                "    SELECT top 2 @PK [PK], KEY_TBL.[RANK], @Codigo [OPPM_CODIGO], Kairos.CODIGO [Kairos_CODIGO], Kairos.PRD_DESC_COMPLETO, @Prin_Activo [OPPM_PRIN_ACT], @Nombre [OPPM_NOM], @Lab [OPPM_LAB], @Concent [OPPM_CONCENT], @Fraccion [OPPM_FRAC], @Form_Farm [Forma_Farm], @Present [OPPM_PRES], 'C' [TB]\r\n",
                "    FROM Kairos\r\n",
                "    INNER JOIN CONTAINSTABLE(Kairos, PRD_DESC_COMPLETO,  \r\n",
                "                                        @y) AS KEY_TBL\r\n",
                "                    ON Codigo = KEY_TBL.[KEY]\r\n",
                "    ORDER BY KEY_TBL.[RANK] DESC\r\n",
                "), y AS\r\n",
                "(\r\n",
                "    SELECT top 2 @PK [PK], KEY_TBL.[RANK], @Codigo [OPPM_CODIGO], Kairos.CODIGO [Kairos_CODIGO], Kairos.PRD_DESC_COMPLETO, @Prin_Activo [OPPM_PRIN_ACT], @Nombre [OPPM_NOM], @Lab [OPPM_LAB], @Concent [OPPM_CONCENT], @Fraccion [OPPM_FRAC], @Form_Farm [Forma_Farm], @Present [OPPM_PRES], 'F' [TB]\r\n",
                "    FROM Kairos\r\n",
                "    INNER JOIN FREETEXTTABLE(Kairos, PRD_DESC_COMPLETO,  \r\n",
                "                                        @x) AS KEY_TBL\r\n",
                "                    ON Codigo = KEY_TBL.[KEY]\r\n",
                "    ORDER BY KEY_TBL.[RANK] DESC\r\n",
                "), xy AS\r\n",
                "(\r\n",
                "    SELECT *\r\n",
                "    FROM y\r\n",
                "    UNION ALL\r\n",
                "    SELECT *\r\n",
                "    FROM x\r\n",
                ")\r\n",
                "INSERT INTO OPPM_KAIROS_V2\r\n",
                "SELECT TOP 2 *\r\n",
                "FROM xy\r\n",
                "ORDER BY [RANK] DESC\r\n",
                "\r\n",
                "SET @PK = @PK + 1\r\n",
                "\r\n",
                "END\r\n",
                "GO\r\n",
                ""
            ],
            "metadata": {
                "azdata_cell_guid": "08853b85-642f-4604-886d-4c84b090b8be",
                "tags": []
            },
            "outputs": [],
            "execution_count": null
        },
        {
            "cell_type": "markdown",
            "source": [
                "6. **Revisión por pares en 3 grupos**: Una vez ejecutado el algoritmo, se obtiene como resultado una lista de **12 mil registros** a comprar, con **top 2** de medicamentos con mayores coincidencias para cada producto del catálogo del observatorio. Para poder dicernir finalmente la coincidencia final se utilizó 3 grupos humanos, conformados por 2 personas por equipo, para realizar el descarte final de la lista de medicamentos."
            ],
            "metadata": {
                "azdata_cell_guid": "21fb4628-f59b-4c8c-b124-a20ca7ecf948"
            },
            "attachments": {}
        },
        {
            "cell_type": "markdown",
            "source": [
                "7. **Carga de Kairos al catálogo de medicamentos**: Luego de que se concluye el proceso de verificación manual, la data resultante se carga a la tabla **OPPM.Catalogo\\_Medicamentos** en el campo **Kairos**"
            ],
            "metadata": {
                "azdata_cell_guid": "171f9484-cc37-4c8c-885b-a3fa8a646121"
            },
            "attachments": {}
        },
        {
            "cell_type": "code",
            "source": [
                "-- INSERCIÓN DE LA INFORMACIÓN AL CATÁLOGO DE MEDICAMENTOS\r\n",
                "UPDATE CM\r\n",
                "SET CM.Kairos = OK.Kairos\r\n",
                "FROM OPPM.Catalogo_Medicamentos CM\r\n",
                "INNER JOIN Temp.OPPM_Kairos OK\r\n",
                "ON CM.Cod_Prod = OK.Cod_Prod"
            ],
            "metadata": {
                "azdata_cell_guid": "7404aa54-1a74-43ed-9359-d2757d293aa0"
            },
            "outputs": [],
            "execution_count": null
        },
        {
            "cell_type": "markdown",
            "source": [
                "**NOTA**: En base a la nueva información provista por SuSalud y evidencia de nuevas casuísticas en el proceso de homologación se está desarrollando una 7ma versión del algortimo de búsqueda, donde se espera que mejore la precisión de las coincidencias del algoritmo."
            ],
            "metadata": {
                "azdata_cell_guid": "e91beeaf-fe0e-40f8-8872-c273b5383aa3"
            }
        }
    ]
}
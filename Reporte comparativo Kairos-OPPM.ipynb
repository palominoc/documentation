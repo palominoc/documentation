{
    "metadata": {
        "kernelspec": {
            "name": "SQL",
            "display_name": "SQL",
            "language": "sql"
        },
        "language_info": {
            "name": "sql",
            "version": ""
        }
    },
    "nbformat_minor": 2,
    "nbformat": 4,
    "cells": [
        {
            "cell_type": "markdown",
            "source": [
                "# REPORTE OPPM-Kairos"
            ],
            "metadata": {
                "azdata_cell_guid": "21e9d384-a663-404e-b7e5-fd6d61c63470"
            }
        },
        {
            "cell_type": "markdown",
            "source": [
                "Para la generación del siguiente informe se realizaron las siguientes actividades, detalladas a continuación:\n",
                "\n",
                "1. **Generación del Algoritmo de búsqueda GTIN**: este algoritmo nos permite identificar los códigos prioritarios y los atributos que tengan similutud a los datos del observatorio, por ejemplo: **Registro Sanitario**. Para dicho proceso se utilizó el **Catalogo.GTIN** provisto por SuSalud."
            ],
            "metadata": {
                "azdata_cell_guid": "9665df87-fff5-47cf-a99f-168c9c0cad54"
            },
            "attachments": {}
        },
        {
            "cell_type": "code",
            "source": [
                "--CATALOGO DE GTIN PROVISTO POR SUSALUD\r\n",
                "SELECT *\r\n",
                "FROM Catalogo.GTIN CG"
            ],
            "metadata": {
                "azdata_cell_guid": "fe994be8-c495-42ac-9b1f-f0033766e339"
            },
            "outputs": [],
            "execution_count": null
        },
        {
            "cell_type": "code",
            "source": [
                "--CATALOGO GTIN DE PRODUCTOS DECLARADOS EN EL TEDEF (6926 registros)\r\n",
                "SELECT *\r\n",
                "FROM Catalogo.Consumo_TEDEF CT"
            ],
            "metadata": {
                "azdata_cell_guid": "5a7eb955-d3a2-4a37-9fec-98d6d2aec738",
                "tags": []
            },
            "outputs": [],
            "execution_count": null
        },
        {
            "cell_type": "code",
            "source": [
                "--RELACIÓN DE CÓDIGOS GTIN PARA IDENTIFICAR LOS ATRIBUTOS DEL PRODUCTO QUE PUEDAN CORRESPONDER CON EL CATALOGO DE MEDICAMENTOS DEL OPPM\r\n",
                "SELECT CG.CODIGO, CG.NUMREGISTROSANITARIO, CG.DENOMINACIONCOMUN, CG.NOMBRE, CG.CONCENTRACION, CG.UNIDADENVASE, CG.FORMAFARMACEUTICASIMP, CG.LABORATORIO\r\n",
                "FROM Catalogo.GTIN CG\r\n",
                "INNER JOIN Catalogo.Consumo_TEDEF CT\r\n",
                "ON CG.Codigo = CT.GTIN"
            ],
            "metadata": {
                "azdata_cell_guid": "5e76d99b-e505-425a-8df1-715bd002c123"
            },
            "outputs": [],
            "execution_count": null
        },
        {
            "cell_type": "code",
            "source": [
                ""
            ],
            "metadata": {
                "azdata_cell_guid": "f1d358c7-3159-4ddc-96c2-8b9ef5fba675"
            },
            "outputs": [],
            "execution_count": null
        }
    ]
}